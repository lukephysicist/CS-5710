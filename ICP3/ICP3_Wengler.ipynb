{
 "cells": [
  {
   "cell_type": "markdown",
   "metadata": {},
   "source": [
    "### Question 1"
   ]
  },
  {
   "cell_type": "code",
   "execution_count": 4,
   "metadata": {},
   "outputs": [
    {
     "name": "stdout",
     "output_type": "stream",
     "text": [
      "*\n",
      "**\n",
      "***\n",
      "****\n",
      "*****\n",
      "****\n",
      "***\n",
      "**\n",
      "*\n"
     ]
    }
   ],
   "source": [
    "for i in range(-4,5):\n",
    "    num = 5-abs(i)\n",
    "    print('*'*num)"
   ]
  },
  {
   "cell_type": "markdown",
   "metadata": {},
   "source": [
    "### Question 2"
   ]
  },
  {
   "cell_type": "code",
   "execution_count": null,
   "metadata": {},
   "outputs": [],
   "source": [
    "### Counter.count is a class variable, while self._counter is an attribute for the individual instances of the class\n",
    "\n",
    "### The first output is 2\n",
    "### The second output is 1\n",
    "\n",
    "### The increment methd will increase the instance attribute and the class attribute by 1"
   ]
  },
  {
   "cell_type": "markdown",
   "metadata": {},
   "source": [
    "### Question 3\n"
   ]
  },
  {
   "cell_type": "code",
   "execution_count": null,
   "metadata": {},
   "outputs": [
    {
     "name": "stdout",
     "output_type": "stream",
     "text": [
      "Sum of 1,2,3 is:  6\n",
      "Sum of 4,5,6,7 is:  22\n"
     ]
    }
   ],
   "source": [
    "def sum_all(*args):  #<------ The args needs a * beforehand\n",
    "    return sum(args)\n",
    "\n",
    "print(\"Sum of 1,2,3 is: \", sum_all(1,2,3))\n",
    "print(\"Sum of 4,5,6,7 is: \", sum_all(4,5,6,7))"
   ]
  },
  {
   "cell_type": "markdown",
   "metadata": {},
   "source": [
    "### Question 4"
   ]
  },
  {
   "cell_type": "code",
   "execution_count": 7,
   "metadata": {},
   "outputs": [
    {
     "name": "stdout",
     "output_type": "stream",
     "text": [
      "[20, 40, 60, 80, 100]\n"
     ]
    }
   ],
   "source": [
    "my_list = [10,20,30,40,50,60,70,80,90,100]\n",
    "\n",
    "print(my_list[1::2])"
   ]
  },
  {
   "cell_type": "markdown",
   "metadata": {},
   "source": [
    "### Question 5"
   ]
  },
  {
   "cell_type": "code",
   "execution_count": 9,
   "metadata": {},
   "outputs": [
    {
     "data": {
      "text/plain": [
       "[1, 2, 3, 4, 5]"
      ]
     },
     "execution_count": 9,
     "metadata": {},
     "output_type": "execute_result"
    }
   ],
   "source": [
    "def get_unique(ls):\n",
    "    return list(set(ls))\n",
    "\n",
    "sample = [1,2,3,3,3,3,4,5]\n",
    "get_unique(sample)"
   ]
  },
  {
   "cell_type": "markdown",
   "metadata": {},
   "source": [
    "### Question 6"
   ]
  },
  {
   "cell_type": "code",
   "execution_count": 11,
   "metadata": {},
   "outputs": [
    {
     "name": "stdout",
     "output_type": "stream",
     "text": [
      "Average employee salary is:  52500.0\n"
     ]
    }
   ],
   "source": [
    "class Employee:\n",
    "\n",
    "    count = 0\n",
    "    salary_total = 0\n",
    "\n",
    "    def __init__(self, name, family, salary, dept):\n",
    "        self.name = name\n",
    "        self.family = family\n",
    "        self.salary = salary\n",
    "        self.dept = dept\n",
    "\n",
    "        Employee.count+=1\n",
    "        Employee.salary_total += salary\n",
    "\n",
    "    def average_salary():\n",
    "        return Employee.salary_total / Employee.count\n",
    "    \n",
    "\n",
    "class FulltimeEmployee(Employee):\n",
    "\n",
    "    def __init__(self, name, family, salary, dept, benefits):\n",
    "        super().__init__(name, family, salary, dept)\n",
    "        self.benefits = benefits\n",
    "\n",
    "Bobby = Employee(\"Bobby\", ['Mom', 'Dad', 'Jane'], 45000, \"HR\")\n",
    "Joni = FulltimeEmployee(\"Joni\", ['Johnny', 'Sara'], 60000, \"Accounting\", \"Healthcare\")\n",
    "\n",
    "print(\"Average employee salary is: \", Employee.average_salary())\n"
   ]
  }
 ],
 "metadata": {
  "kernelspec": {
   "display_name": "Python 3",
   "language": "python",
   "name": "python3"
  },
  "language_info": {
   "codemirror_mode": {
    "name": "ipython",
    "version": 3
   },
   "file_extension": ".py",
   "mimetype": "text/x-python",
   "name": "python",
   "nbconvert_exporter": "python",
   "pygments_lexer": "ipython3",
   "version": "3.12.7"
  }
 },
 "nbformat": 4,
 "nbformat_minor": 2
}
