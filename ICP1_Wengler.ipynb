{
 "cells": [
  {
   "cell_type": "markdown",
   "metadata": {},
   "source": [
    "### Question 1"
   ]
  },
  {
   "cell_type": "code",
   "execution_count": 5,
   "metadata": {},
   "outputs": [
    {
     "name": "stdout",
     "output_type": "stream",
     "text": [
      "min:  19\n",
      "max:  26\n",
      "median:  24.0\n",
      "mean: 22.8\n",
      "range:  7\n"
     ]
    }
   ],
   "source": [
    "ages = [19, 22, 19, 24, 20, 25, 26, 24, 25, 24]\n",
    "import statistics as st\n",
    "\n",
    "# min \n",
    "print(\"min: \", min(ages))\n",
    "# max\n",
    "print(\"max: \", max(ages))\n",
    "# median\n",
    "print(\"median: \", st.median(ages))\n",
    "# mean\n",
    "print(\"mean:\", sum(ages)/len(ages))\n",
    "# ramge\n",
    "print(\"range: \", max(ages)-min(ages))"
   ]
  },
  {
   "cell_type": "markdown",
   "metadata": {},
   "source": [
    "### Question 2"
   ]
  },
  {
   "cell_type": "code",
   "execution_count": 7,
   "metadata": {},
   "outputs": [],
   "source": [
    "dog = {}\n",
    "dog[\"Name\"] = \"Fido\"\n",
    "dog[\"Color\"] = \"Black\"\n",
    "dog[\"Breed\"] = \"Bulldog\"\n",
    "dog[\"Legs\"] = 4\n",
    "dog[\"Age\"] = 5 "
   ]
  },
  {
   "cell_type": "code",
   "execution_count": 8,
   "metadata": {},
   "outputs": [],
   "source": [
    "student = {}\n",
    "student[\"First\"] = \"Luke\"\n",
    "student[\"Last\"] = \"Wengler\"\n",
    "student[\"Gender\"] = \"Man\"\n",
    "student[\"Age\"] = 21\n",
    "student[\"Marital_Status\"] = \"Single\"\n",
    "student[\"Skills\"] = [\"Guitar\", \"Python\", \"Communication\"]\n",
    "student[\"Country\"] = \"United States\"\n",
    "student[\"City\"] = \"Kansas City\"\n",
    "student[\"Address\"] = \"1234 East St\""
   ]
  },
  {
   "cell_type": "code",
   "execution_count": 9,
   "metadata": {},
   "outputs": [
    {
     "data": {
      "text/plain": [
       "9"
      ]
     },
     "execution_count": 9,
     "metadata": {},
     "output_type": "execute_result"
    }
   ],
   "source": [
    "len(student)"
   ]
  },
  {
   "cell_type": "code",
   "execution_count": 13,
   "metadata": {},
   "outputs": [
    {
     "name": "stdout",
     "output_type": "stream",
     "text": [
      "['Guitar', 'Python', 'Communication']\n"
     ]
    },
    {
     "data": {
      "text/plain": [
       "list"
      ]
     },
     "execution_count": 13,
     "metadata": {},
     "output_type": "execute_result"
    }
   ],
   "source": [
    "print(student['Skills'])\n",
    "type(student['Skills'])"
   ]
  },
  {
   "cell_type": "code",
   "execution_count": null,
   "metadata": {},
   "outputs": [],
   "source": []
  }
 ],
 "metadata": {
  "kernelspec": {
   "display_name": "Python 3",
   "language": "python",
   "name": "python3"
  },
  "language_info": {
   "codemirror_mode": {
    "name": "ipython",
    "version": 3
   },
   "file_extension": ".py",
   "mimetype": "text/x-python",
   "name": "python",
   "nbconvert_exporter": "python",
   "pygments_lexer": "ipython3",
   "version": "3.12.7"
  }
 },
 "nbformat": 4,
 "nbformat_minor": 2
}
